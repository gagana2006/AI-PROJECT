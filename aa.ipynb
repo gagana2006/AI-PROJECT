{
  "nbformat": 4,
  "nbformat_minor": 0,
  "metadata": {
    "colab": {
      "provenance": [],
      "authorship_tag": "ABX9TyPNFt0M3ViRTJlLgOSunjDE"
    },
    "kernelspec": {
      "name": "python3",
      "display_name": "Python 3"
    },
    "language_info": {
      "name": "python"
    }
  },
  "cells": [
    {
      "cell_type": "code",
      "execution_count": null,
      "metadata": {
        "colab": {
          "base_uri": "https://localhost:8080/"
        },
        "id": "Dot1v6kldRt-",
        "outputId": "5a8319c8-f769-4c96-c514-6851045fb34c"
      },
      "outputs": [
        {
          "output_type": "stream",
          "name": "stdout",
          "text": [
            "[1 2 3 4 5]\n"
          ]
        }
      ],
      "source": [
        "import numpy as np\n",
        "arr=np.array([1,2,3,4,5])\n",
        "print(arr)"
      ]
    },
    {
      "cell_type": "code",
      "source": [
        "#converting 1D to 2D array\n",
        "import numpy as np\n",
        "arr=np.array([3,5,7,9,12,15,18,22])\n",
        "print(arr)\n",
        "arr1=(arr[1:6])\n",
        "print(arr1)\n",
        "arr2=arr.reshape(2,4)\n",
        "print('convert 1D array to 2D array')\n",
        "print('2D array is:',arr2)\n"
      ],
      "metadata": {
        "colab": {
          "base_uri": "https://localhost:8080/"
        },
        "id": "UIWfBWKNdyak",
        "outputId": "b9890ebe-aa7b-4a8b-e237-8d6d122beb47"
      },
      "execution_count": null,
      "outputs": [
        {
          "output_type": "stream",
          "name": "stdout",
          "text": [
            "[ 3  5  7  9 12 15 18 22]\n",
            "[ 5  7  9 12 15]\n",
            "convert 1D array to 2D array\n",
            "2D array is: [[ 3  5  7  9]\n",
            " [12 15 18 22]]\n"
          ]
        }
      ]
    },
    {
      "cell_type": "code",
      "source": [
        "#slicing 3rd value to end\n",
        "import numpy as np\n",
        "arr=np.array([1,2,3,4,5,6,7,8])\n",
        "print('slicing 3rd value to end')\n",
        "print(arr[3:])"
      ],
      "metadata": {
        "colab": {
          "base_uri": "https://localhost:8080/"
        },
        "id": "v_bwRowFoN1j",
        "outputId": "542868da-d9da-4e6d-d87f-e3a379e7a031"
      },
      "execution_count": null,
      "outputs": [
        {
          "output_type": "stream",
          "name": "stdout",
          "text": [
            "slicing 3rd value to end\n",
            "[4 5 6 7 8]\n"
          ]
        }
      ]
    },
    {
      "cell_type": "code",
      "source": [
        "#slice 0 to 4 index\n",
        "import numpy as np\n",
        "arr=np.array([1,45,3,4,14,6,7,8])\n",
        "print('slice 0 to 4 index')\n",
        "print(arr[:6])"
      ],
      "metadata": {
        "colab": {
          "base_uri": "https://localhost:8080/"
        },
        "id": "CixWtx1oqPRS",
        "outputId": "79602c02-26ea-42d7-8811-208818aff6b2"
      },
      "execution_count": null,
      "outputs": [
        {
          "output_type": "stream",
          "name": "stdout",
          "text": [
            "slice 0 to 4 index\n",
            "[ 1 45  3  4 14  6]\n"
          ]
        }
      ]
    },
    {
      "cell_type": "code",
      "source": [
        "#use stetp value using start and end value is empty\n",
        "import numpy as np\n",
        "arr=np.array([1,2,3,4,5,6,7,8])\n",
        "print('use step value using start and end value is empty')\n",
        "print(arr[::3])"
      ],
      "metadata": {
        "colab": {
          "base_uri": "https://localhost:8080/"
        },
        "id": "1NUisppGrY9R",
        "outputId": "93025cc4-f190-446d-d22f-8f404e94ea93"
      },
      "execution_count": null,
      "outputs": [
        {
          "output_type": "stream",
          "name": "stdout",
          "text": [
            "use step value using start and end value is empty\n",
            "[1 4 7]\n"
          ]
        }
      ]
    },
    {
      "cell_type": "code",
      "source": [
        "#use slicing with interval input\n",
        "import numpy as np\n",
        "arr=np.array([1,2,3,4,5,6,7,8])\n",
        "print('use slicing with interval input')\n",
        "print(arr[2::3])"
      ],
      "metadata": {
        "id": "uUlVPMIqynJz",
        "colab": {
          "base_uri": "https://localhost:8080/"
        },
        "outputId": "d07f9039-3e46-41fa-85d3-865435f4d26f"
      },
      "execution_count": null,
      "outputs": [
        {
          "output_type": "stream",
          "name": "stdout",
          "text": [
            "use slicing with interval input\n",
            "[3 6]\n"
          ]
        }
      ]
    },
    {
      "cell_type": "code",
      "source": [
        "#use slicing a 2D array\n",
        "import numpy as np\n",
        "arr=np.array([[3,5,7,9],[11,15,18,22]])\n",
        "print('use slicing a 2D array')\n",
        "print(' slicing with 2D array is:',arr[1,1:3])"
      ],
      "metadata": {
        "colab": {
          "base_uri": "https://localhost:8080/"
        },
        "id": "mTFlTBFi-XjK",
        "outputId": "306b0fa3-4d8b-4848-86a7-62fecceb9de4"
      },
      "execution_count": null,
      "outputs": [
        {
          "output_type": "stream",
          "name": "stdout",
          "text": [
            "use slicing a 2D array\n",
            " slicing with 2D array is: [15 18]\n"
          ]
        }
      ]
    },
    {
      "cell_type": "code",
      "source": [
        "#slicing 3D array\n",
        "import numpy as np\n",
        "arr=np.array([[[3,5,7,9],[11,15,18,22,],[24,28,30,32]]])\n",
        "print('slicing 3D arrray')\n",
        "print('slicing with 3D array:',arr[0,1,0:2])"
      ],
      "metadata": {
        "colab": {
          "base_uri": "https://localhost:8080/"
        },
        "id": "CIFRSjG-JEeI",
        "outputId": "ea5c92f9-4e7e-4e78-8eb0-b33044b42bb1"
      },
      "execution_count": null,
      "outputs": [
        {
          "output_type": "stream",
          "name": "stdout",
          "text": [
            "slicing 3D arrray\n",
            "slicing with 3D array: [11 15]\n"
          ]
        }
      ]
    },
    {
      "cell_type": "code",
      "source": [
        "#find the data type of an array (arr1,arr2,arr3)\n",
        "import numpy as np\n",
        "arr1=np.array([1,2,3])\n",
        "arr2=np.array([[1,2,3],[4,5,6],[7,8,9]])\n",
        "arr3=np.array([[3,5,6],[2,4,8],[1,9,5]])\n",
        "print('datatype of array')\n",
        "print('datatype of array1',arr1.dtype)\n",
        "print('datatype of array2',arr2.dtype)\n",
        "print('datatype of array3',arr3.dtype)"
      ],
      "metadata": {
        "colab": {
          "base_uri": "https://localhost:8080/"
        },
        "id": "5GgNBL7RKp85",
        "outputId": "4fdd4742-1e9c-4d1a-8093-8c7ed588e246"
      },
      "execution_count": null,
      "outputs": [
        {
          "output_type": "stream",
          "name": "stdout",
          "text": [
            "datatype of array\n",
            "datatype of array1 int64\n",
            "datatype of array2 int64\n",
            "datatype of array3 int64\n"
          ]
        }
      ]
    },
    {
      "cell_type": "code",
      "source": [
        "#reverse of the data\n",
        "import numpy as np\n",
        "arr=np.array([1,2,3,4,5,6,7,8,3,9,0,23,45,89])\n",
        "res=(arr[::-1])\n",
        "print('reverse of the data:',res)"
      ],
      "metadata": {
        "colab": {
          "base_uri": "https://localhost:8080/"
        },
        "id": "ySKNaXXWM9SM",
        "outputId": "29f34afc-b208-46be-baca-1b575b514e55"
      },
      "execution_count": null,
      "outputs": [
        {
          "output_type": "stream",
          "name": "stdout",
          "text": [
            "reverse of the data: [89 45 23  0  9  3  8  7  6  5  4  3  2  1]\n"
          ]
        }
      ]
    },
    {
      "cell_type": "code",
      "source": [
        "#use concatenate()to join two arrays\n",
        "import numpy as np\n",
        "arr=np.array([1,2,3])\n",
        "arr1=np.array([4,5,6])\n",
        "con=np.concatenate((arr,arr1))\n",
        "print('concatenating two arrays')\n",
        "print('conatenate arrays:',con)\n"
      ],
      "metadata": {
        "colab": {
          "base_uri": "https://localhost:8080/"
        },
        "id": "eL3sFDA8Nr59",
        "outputId": "49fd8dc6-116e-4c60-e516-7af86fb84ae3"
      },
      "execution_count": null,
      "outputs": [
        {
          "output_type": "stream",
          "name": "stdout",
          "text": [
            "concatenating two arrays\n",
            "conatenate arrays: [1 2 3 4 5 6]\n"
          ]
        }
      ]
    },
    {
      "cell_type": "code",
      "source": [
        "#use conacatenate()with axis=1\n",
        "import numpy as np\n",
        "arr=np.array([[1,2,3,],[4,5,7]])\n",
        "arr1=np.array([[11,15,18],[17,18,10]])\n",
        "con=np.concatenate((arr,arr1),axis=1)\n",
        "print('conatenate with axis')\n",
        "print(con)"
      ],
      "metadata": {
        "colab": {
          "base_uri": "https://localhost:8080/"
        },
        "id": "cKgCTbgTOmDb",
        "outputId": "4cf4ae2c-5589-485a-d884-fe74ca15c562"
      },
      "execution_count": null,
      "outputs": [
        {
          "output_type": "stream",
          "name": "stdout",
          "text": [
            "conatenate with axis\n",
            "[[ 1  2  3 11 15 18]\n",
            " [ 4  5  7 17 18 10]]\n"
          ]
        }
      ]
    },
    {
      "cell_type": "code",
      "source": [],
      "metadata": {
        "id": "yyP0lEJDPj2C"
      },
      "execution_count": null,
      "outputs": []
    }
  ]
}